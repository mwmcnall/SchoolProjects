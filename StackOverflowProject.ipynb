{
 "cells": [
  {
   "cell_type": "markdown",
   "metadata": {
    "slideshow": {
     "slide_type": "slide"
    }
   },
   "source": [
    "<h1><center>Stack Overflow</center></h1>\n",
    "<h3><center>Insights into one of the leading sites for answering programming questions</center></h3>"
   ]
  },
  {
   "cell_type": "markdown",
   "metadata": {
    "slideshow": {
     "slide_type": "fragment"
    }
   },
   "source": [
    "If you've ever googled a programming question in the past, chances are you've been to and been helped by Stack Overflow!\n",
    "\n",
    "This is a subset of the data available on Google BigQuery for free. This contains pretty much all the information about a post you could want:\n",
    "\n",
    "- Title\n",
    "- Entire contents of the post\n",
    "- Number of answers, views, favorites\n",
    "- Dates of creation, editing\n",
    "- And much more!"
   ]
  },
  {
   "cell_type": "markdown",
   "metadata": {
    "slideshow": {
     "slide_type": "skip"
    }
   },
   "source": [
    "### Imports"
   ]
  },
  {
   "cell_type": "code",
   "execution_count": 3,
   "metadata": {
    "slideshow": {
     "slide_type": "skip"
    }
   },
   "outputs": [],
   "source": [
    "import pandas as pd\n",
    "pd.set_option('display.max_rows', 500)\n",
    "pd.set_option('display.max_columns', 500)\n",
    "pd.set_option('display.width', 1000)\n",
    "import numpy as np\n",
    "import matplotlib.pyplot as plt\n",
    "import matplotlib.cm as cm\n",
    "import seaborn as sns\n",
    "\n",
    "import glob\n",
    "import statsmodels.api as sm\n",
    "\n",
    "from math import floor\n",
    "\n",
    "from dfply import *\n",
    "\n",
    "from collections import Counter\n",
    "\n",
    "from sklearn import linear_model\n",
    "from sklearn.metrics import accuracy_score, log_loss, confusion_matrix\n",
    "from sklearn.model_selection import train_test_split, cross_val_score\n",
    "from sklearn.metrics import mean_squared_error\n",
    "from sklearn import preprocessing\n",
    "from sklearn.neighbors import KNeighborsRegressor, KNeighborsClassifier\n",
    "from sklearn.tree import DecisionTreeRegressor, DecisionTreeClassifier\n",
    "from sklearn.pipeline import Pipeline\n",
    "from sklearn.impute import SimpleImputer\n",
    "from sklearn.compose import ColumnTransformer\n",
    "from sklearn.preprocessing import StandardScaler\n",
    "import random\n",
    "\n",
    "import warnings\n",
    "warnings.filterwarnings(\"ignore\")\n",
    "\n",
    "global_width = 14\n",
    "global_height = 8"
   ]
  },
  {
   "cell_type": "markdown",
   "metadata": {
    "slideshow": {
     "slide_type": "subslide"
    }
   },
   "source": [
    "### Data Exploration / Feature Engineering"
   ]
  },
  {
   "cell_type": "markdown",
   "metadata": {
    "slideshow": {
     "slide_type": "fragment"
    }
   },
   "source": [
    "The way GoogleBigQuery works is that you can query their database using SQL commands and get a certain amount of free searches (measured by data returned). So over the course of a few months I downloaded 5,000 rows of information at a time. This **glob** command will combine all of them together into a single, large csv file."
   ]
  },
  {
   "cell_type": "code",
   "execution_count": 31,
   "metadata": {
    "slideshow": {
     "slide_type": "fragment"
    }
   },
   "outputs": [],
   "source": [
    "df = pd.concat([pd.read_csv(f) for f in glob.glob('results-*.csv')], ignore_index = True)"
   ]
  },
  {
   "cell_type": "markdown",
   "metadata": {
    "slideshow": {
     "slide_type": "fragment"
    }
   },
   "source": [
    "There is a limit at the amount of data you're allowed to pull from Google Big Query each month so I settled for 195,000 rows of data from the entire Dataset which I imagine will be representative of the whole.\n",
    "\n",
    "Below is an image of the interface for a more clear image of how this data was gathered."
   ]
  },
  {
   "cell_type": "markdown",
   "metadata": {
    "slideshow": {
     "slide_type": "subslide"
    }
   },
   "source": [
    "![title](bigquery.png)"
   ]
  },
  {
   "cell_type": "code",
   "execution_count": 3,
   "metadata": {
    "slideshow": {
     "slide_type": "skip"
    }
   },
   "outputs": [],
   "source": [
    "df = pd.read_csv('py_r.csv')"
   ]
  },
  {
   "cell_type": "markdown",
   "metadata": {
    "slideshow": {
     "slide_type": "subslide"
    }
   },
   "source": [
    "Some basic feature engineering to get some more possible features to predict values from."
   ]
  },
  {
   "cell_type": "code",
   "execution_count": 33,
   "metadata": {
    "slideshow": {
     "slide_type": "fragment"
    }
   },
   "outputs": [],
   "source": [
    "# A boolean value of whether or not there's an answer to the question\n",
    "df['answer'] = df['answer_count'] > 0\n",
    "# An 'accepted_answer' is one where the question asker choses the best answer that helped their question\n",
    "df['accepted_answer'] = df['accepted_answer_id'] > 0\n",
    "# Similar to above\n",
    "df['edited'] = df['last_edit_date'].fillna(0) != 0\n",
    "df['owner_name_exists'] = df['owner_display_name'].fillna(0) != 0\n",
    "# Whether or not the post has code in it\n",
    "df['code'] = df['body'].str.contains('<code>')\n",
    "# Replace NAN values with 0\n",
    "df['favorite_count'] = df['favorite_count'].fillna(0)"
   ]
  },
  {
   "cell_type": "markdown",
   "metadata": {
    "slideshow": {
     "slide_type": "subslide"
    }
   },
   "source": [
    "View count is a column that's bound to have outliers in it. There are questions nobody has looked at, and other ones that have been seen over 100s of thousands of times. I decided to bin the view counts within a **popularity** variable to help understand which posts are much more popular than others."
   ]
  },
  {
   "cell_type": "code",
   "execution_count": 13,
   "metadata": {
    "slideshow": {
     "slide_type": "fragment"
    }
   },
   "outputs": [],
   "source": [
    "# I wanted to get a good range of values for popularity given view_count. 5 x the mean gave a diverse histogram, so I\n",
    "# used that as the bin size, this helps with the high outliers as well, having a big range to put them in\n",
    "bins = np.linspace(0, df['view_count'].mean() * 5, 10)\n",
    "digitized = np.digitize(df['View Count'], bins)\n",
    "df['popularity'] = digitized"
   ]
  },
  {
   "cell_type": "code",
   "execution_count": 24,
   "metadata": {
    "slideshow": {
     "slide_type": "skip"
    }
   },
   "outputs": [],
   "source": [
    "# Converting all the dates to the proper type\n",
    "df['creation_date'] = pd.to_datetime(df['creation_date'])\n",
    "df['last_activity_date'] = pd.to_datetime(df['last_activity_date'])\n",
    "df['last_edit_date'] = pd.to_datetime(df['last_edit_date'])"
   ]
  },
  {
   "cell_type": "markdown",
   "metadata": {
    "slideshow": {
     "slide_type": "subslide"
    }
   },
   "source": [
    "Datetime objects can be tricky to work with, so I created this function that will just *explode* the datetime values into it's necessary components that are easier to digest"
   ]
  },
  {
   "cell_type": "code",
   "execution_count": 60,
   "metadata": {
    "slideshow": {
     "slide_type": "fragment"
    }
   },
   "outputs": [],
   "source": [
    "### This function will take in a datetime object, explode it into these values:\n",
    "### - day\n",
    "### - month\n",
    "### - year\n",
    "### - minute\n",
    "### - hour\n",
    "### - second\n",
    "### - microsecond\n",
    "### Can drop the column afterwards if you wishs\n",
    "def engineerDateTimes(colname, engineerName, data, drop = False):\n",
    "# Make sure it's a datetime column\n",
    "    assert data[colname].dtype == '<M8[ns]', 'column not of datetime type'\n",
    "    # Locations where value exists\n",
    "    truths = ~df[colname].isna()\n",
    "    # Extract the date and time from column\n",
    "    df_date, df_time = zip(*[(d.date(), d.time()) for d in data[truths][colname]])\n",
    "# Dates\n",
    "    data.loc[truths, engineerName + '_day'] = [d.day for d in df_date]\n",
    "    data.loc[truths, engineerName + '_month'] = [d.month for d in df_date]\n",
    "    data.loc[truths, engineerName + '_year'] = [d.year for d in df_date]\n",
    "# Times\n",
    "    data.loc[truths, engineerName + '_minute'] = [d.minute for d in df_time]\n",
    "    data.loc[truths, engineerName + '_hour'] = [d.hour for d in df_time]\n",
    "    data.loc[truths, engineerName + '_second'] = [d.second for d in df_time]\n",
    "    data.loc[truths, engineerName + '_microsecond'] = [d.microsecond for d in df_time]\n",
    "# Drop\n",
    "    if (drop == True):\n",
    "        return(data.drop([colname], axis = 1))\n",
    "    \n",
    "    return(data)"
   ]
  },
  {
   "cell_type": "markdown",
   "metadata": {},
   "source": [
    "***\n",
    "***\n",
    "***\n",
    "***\n",
    "***\n",
    "***\n",
    "***\n",
    "***\n",
    "***\n",
    "***\n",
    "***\n",
    "***\n",
    "***\n",
    "***\n",
    "***\n",
    "***\n",
    "***\n",
    "***\n",
    "***\n",
    "***"
   ]
  },
  {
   "cell_type": "code",
   "execution_count": 61,
   "metadata": {
    "slideshow": {
     "slide_type": "subslide"
    }
   },
   "outputs": [],
   "source": [
    "# This column doesn't have enough information to keep around\n",
    "#df = df.drop(['community_owned_date'], axis = 1)\n",
    "\n",
    "# df['creation_date'] = pd.to_datetime(df['creation_date'])\n",
    "# df['last_activity_date'] = pd.to_datetime(df['last_activity_date'])\n",
    "# df['last_edit_date'] = pd.to_datetime(df['last_edit_date'])\n",
    "\n",
    "df = engineerDateTimes(colname ='creation_date',\n",
    "                  engineerName = 'creation',\n",
    "                  data = df)\n",
    "df = engineerDateTimes(colname ='last_activity_date',\n",
    "                  engineerName = 'last_activity',\n",
    "                  data = df)\n",
    "df = engineerDateTimes(colname ='last_edit_date',\n",
    "                  engineerName = 'last_edit',\n",
    "                  data = df)"
   ]
  },
  {
   "cell_type": "code",
   "execution_count": 63,
   "metadata": {
    "slideshow": {
     "slide_type": "subslide"
    }
   },
   "outputs": [
    {
     "name": "stdout",
     "output_type": "stream",
     "text": [
      "86% of the questions have answers\n",
      "\n",
      "55% of question-askers have chosen an acceptable answer that helped them\n",
      "\n",
      "38% of answers submitted are selected as acceptable answers by the question-asker\n"
     ]
    }
   ],
   "source": [
    "print(\"{:.0%} of the questions have answers\".format(sum(df.answer) / df.shape[0]))\n",
    "print(\"\\n{:.0%} of question-askers have chosen an acceptable answer that helped them\".format(sum(df.accepted_answer) / df.shape[0]))\n",
    "print(\"\\n{:.0%} of answers submitted are selected as acceptable answers by the question-asker\".format(sum(df.accepted_answer) / sum(df.answer_count)))"
   ]
  },
  {
   "cell_type": "markdown",
   "metadata": {
    "slideshow": {
     "slide_type": "slide"
    }
   },
   "source": [
    "### Tags\n",
    "Every question submitted on Stack Overflow can be tagged based on the programming language or the type of question that they are asking. This makes it easier to find similar questions, helping those looking to answer find questions they can help with and more!\n",
    "\n",
    "But in their current form they are hard to analyze. They're a collection of tags split by '|' characters, the next code block will determine what the most popular tags are and create a column that contains only the most popular tag for each given question, which will be easier to analyze and understand."
   ]
  },
  {
   "cell_type": "code",
   "execution_count": 64,
   "metadata": {
    "slideshow": {
     "slide_type": "subslide"
    }
   },
   "outputs": [],
   "source": [
    "# Get all values from tags\n",
    "tags = '|'.join(df.tags.values)\n",
    "# A collection of all tags as separate words\n",
    "s = tags.split('|')\n",
    "# Each unique tag word\n",
    "words = list(np.unique(s))\n",
    "\n",
    "# Convert to a df\n",
    "word_df = pd.DataFrame(words, columns = ['word'])\n",
    "\n",
    "# A function that returns the total count of each tag\n",
    "def wc_in_tags(row):\n",
    "    return(s.count(row.word))\n",
    "\n",
    "# Defining a column to store each count\n",
    "word_df['count'] = word_df.apply(wc_in_tags,\n",
    "                                 axis = 1)\n",
    "\n",
    "# Organizing the df descending by count values\n",
    "word_df = word_df.sort_values(by = 'count',\n",
    "                    ascending = False)\n",
    "\n",
    "# A list of each individual tag word, organized from most to least popular\n",
    "# This is important because the function applied checks from most to least popular in order to define the main_tag\n",
    "word_list = word_df.word.values\n",
    "\n",
    "def language_from_tag(row):\n",
    "    s = row.tags.split('|')\n",
    "    \n",
    "    # If there is only one tag, return that tag\n",
    "    if len(s) == 1:\n",
    "        return(s[0])\n",
    "    \n",
    "    for word in word_list:\n",
    "        if word in s:\n",
    "            return(word)\n",
    "    # There should be no case in which this returns, but if there is, return 'undefined' for error testing\n",
    "    return('undefined')\n",
    "\n",
    "df['main_tag'] = df.apply(language_from_tag,\n",
    "                          axis = 1)\n",
    "\n",
    "# Convert to category and also create a categorical numerical version for regression testing\n",
    "df['main_tag'] = df['main_tag'].astype('category')\n",
    "#df['main_tag_code'] = df.main_tag.cat.codes"
   ]
  },
  {
   "cell_type": "markdown",
   "metadata": {},
   "source": [
    "***\n",
    "***\n",
    "***\n",
    "***\n",
    "***\n",
    "***\n",
    "***\n",
    "***\n",
    "***\n",
    "***\n",
    "***\n",
    "***\n",
    "***\n",
    "***\n",
    "***\n",
    "***\n",
    "***\n",
    "***\n",
    "***\n",
    "***"
   ]
  },
  {
   "cell_type": "code",
   "execution_count": 16,
   "metadata": {
    "slideshow": {
     "slide_type": "skip"
    }
   },
   "outputs": [],
   "source": [
    "# To not have to run the above steps repeatedly\n",
    "df.to_csv('StackOverflowFINAL.csv', index = False)"
   ]
  },
  {
   "cell_type": "code",
   "execution_count": 66,
   "metadata": {
    "slideshow": {
     "slide_type": "skip"
    }
   },
   "outputs": [],
   "source": [
    "# To not have to run the above steps repeatedly\n",
    "df.to_csv('py_r_Final.csv', index = False)"
   ]
  },
  {
   "cell_type": "code",
   "execution_count": 32,
   "metadata": {
    "slideshow": {
     "slide_type": "skip"
    }
   },
   "outputs": [],
   "source": [
    "df.columns = ['accepted_answer_id', 'answer_count', 'body', 'comment_count', 'creation_date', 'favorite_count', 'id',\n",
    " 'last_activity_date', 'last_edit_date', 'last_editor_display_name', 'last_editor_user_id', 'owner_display_name',\n",
    " 'owner_user_id', 'post_type_id', 'score', 'tags', 'title', 'view_count', 'answer', 'accepted_answer', 'edited',\n",
    " 'owner_name_exists', 'code', 'favorite_count', 'popularity', 'creation_date', 'last_activity_date', 'last_edit_date']"
   ]
  },
  {
   "cell_type": "markdown",
   "metadata": {
    "slideshow": {
     "slide_type": "skip"
    }
   },
   "source": [
    "***"
   ]
  },
  {
   "cell_type": "markdown",
   "metadata": {
    "slideshow": {
     "slide_type": "slide"
    }
   },
   "source": [
    "# Preprocessing"
   ]
  },
  {
   "cell_type": "code",
   "execution_count": 35,
   "metadata": {
    "slideshow": {
     "slide_type": "skip"
    }
   },
   "outputs": [],
   "source": [
    "df = pd.read_csv('StackOverflowFINAL.csv')"
   ]
  },
  {
   "cell_type": "code",
   "execution_count": 16,
   "metadata": {
    "slideshow": {
     "slide_type": "skip"
    }
   },
   "outputs": [],
   "source": [
    "df = pd.read_csv('py_r_Final.csv')"
   ]
  },
  {
   "cell_type": "markdown",
   "metadata": {
    "slideshow": {
     "slide_type": "fragment"
    }
   },
   "source": [
    "Before we begin to model and predict, it's important to get the data into the format that will best help it to predict any given value we're looking for.\n",
    "\n",
    "This means standardizing numerical values and attempting to deal with categorical values in a smart way\n",
    "\n",
    "The function below was crafted after reading a tutorial from https://medium.com/dunder-data/from-pandas-to-scikit-learn-a-new-exciting-workflow-e88e2271ef62\n",
    "\n",
    "This dataset was actually too large for my laptop to handle the OneHotEncoding within this method, so I converted it just using standard scalar on any numerical column. So I just chose to not use categorical columns for my machine learning methods this project."
   ]
  },
  {
   "cell_type": "code",
   "execution_count": 10,
   "metadata": {
    "slideshow": {
     "slide_type": "subslide"
    }
   },
   "outputs": [],
   "source": [
    "# Get a list of columns\n",
    "cols = df.columns\n",
    "\n",
    "def preprocess_data(data, prediction_column,\n",
    "                    num_impute = 'median', cat_impute = 'constant', cat_impute_fill = 'MISSING'):\n",
    "    df_process = data.copy()\n",
    "# data handling\n",
    "    # The column must be assigned before dropping it\n",
    "    y = df_process[prediction_column]\n",
    "    df_process = df_process.drop([prediction_column], axis = 1)\n",
    "# column type handling\n",
    "    kinds = np.array([dt.kind for dt in df_process.dtypes])\n",
    "    all_columns = df_process.columns.values\n",
    "    is_cat = kinds == 'O'\n",
    "    # For integer or bools\n",
    "    is_num = kinds != 'O'\n",
    "    # An array of all integer / bool columns\n",
    "    num_cols = all_columns[is_num]\n",
    "#    print(num_cols)\n",
    "    # An array of all categorical columns\n",
    "    cat_cols = all_columns[is_cat]   \n",
    "# Machine learning pipeline preparation\n",
    " # Numeric\n",
    "    # Imputation\n",
    "    num_si_step = ('si', SimpleImputer(strategy = num_impute))\n",
    "    # Scaling data\n",
    "    num_ss_step = ('ss', StandardScaler())\n",
    "    # All steps for numeric columns\n",
    "    num_steps = [num_si_step, num_ss_step]\n",
    "    # Create a pipeline of the steps\n",
    "    num_pipe = Pipeline(num_steps)\n",
    "    # Create the transformation tuple for the numeric steps\n",
    "    num_transformers = [('num', num_pipe, num_cols)]\n",
    " # Categorical  \n",
    "    # Same steps as above, but for categorical columns instead\n",
    "#     cat_si_step = ('si', SimpleImputer(strategy = cat_impute,\n",
    "#                                   fill_value = cat_impute_fill))\n",
    "#     cat_ohe_step = ('ohe', preprocessing.OneHotEncoder(sparse = False,\n",
    "#                                     handle_unknown = 'ignore'))\n",
    "#     cat_steps = [cat_si_step, cat_ohe_step]\n",
    "#     cat_pipe = Pipeline(cat_steps)\n",
    "# Transformations / Pipeline\n",
    "    # List of all transformations that will be put into the pipe, this also determines which operations will affect\n",
    "    # what columns\n",
    "    transformers = [#('cat', cat_pipe, cat_cols),\n",
    "                    ('num', num_pipe, num_cols)]\n",
    "    ct = ColumnTransformer(transformers = transformers)\n",
    "    data_pro = ct.fit_transform(data)\n",
    "    \n",
    "    return(y, data_pro)"
   ]
  },
  {
   "cell_type": "markdown",
   "metadata": {
    "slideshow": {
     "slide_type": "-"
    }
   },
   "source": [
    "***\n",
    "***\n",
    "***\n",
    "***\n",
    "***\n",
    "***\n",
    "***\n",
    "***\n",
    "***\n",
    "***\n",
    "***\n",
    "***\n",
    "***\n",
    "***\n",
    "***\n",
    "***\n",
    "***\n",
    "***\n",
    "***\n",
    "***\n",
    "***\n",
    "***\n",
    "***\n",
    "***\n",
    "***\n",
    "***\n",
    "***\n",
    "***\n",
    "***\n",
    "***\n",
    "***\n",
    "***\n",
    "***\n",
    "***\n",
    "***\n",
    "***\n",
    "***\n",
    "***\n",
    "***\n",
    "***"
   ]
  },
  {
   "cell_type": "markdown",
   "metadata": {
    "slideshow": {
     "slide_type": "slide"
    }
   },
   "source": [
    "# Modeling"
   ]
  },
  {
   "cell_type": "markdown",
   "metadata": {
    "slideshow": {
     "slide_type": "fragment"
    }
   },
   "source": [
    "### view_count"
   ]
  },
  {
   "cell_type": "markdown",
   "metadata": {
    "slideshow": {
     "slide_type": "fragment"
    }
   },
   "source": [
    "Given all the other information that we could have about a question on Stack Overflow, how well can we predict the number of views it will get?"
   ]
  },
  {
   "cell_type": "code",
   "execution_count": 90,
   "metadata": {
    "slideshow": {
     "slide_type": "fragment"
    }
   },
   "outputs": [],
   "source": [
    "# I mostly don't want to deal with id's / any categorical value with too many unique values\n",
    "# It would be cheating to use popularity here as it's engineered from view_count, so it's dropped as well\n",
    "cols_to_drop = ['id', 'accepted_answer_id', 'last_editor_user_id', 'owner_user_id', 'post_type_id',\n",
    "               'tags', 'title', 'body', 'last_activity_date', 'last_edit_date',\n",
    "               'creation_date', 'popularity']\n",
    "y_pro, df_pro = preprocess_data(df.drop(cols_to_drop, axis = 1), 'view_count')\n",
    "\n",
    "x_train, x_test, y_train, y_test = train_test_split(df_pro,\n",
    "                                                    y_pro,\n",
    "                                                    test_size=0.20,\n",
    "                                                    random_state = random.randint(0,100))\n",
    "\n",
    "view_lin = linear_model.LinearRegression()\n",
    "view_lin.fit(x_train,y_train)\n",
    "\n",
    "y_preds = view_lin.predict(x_test)\n",
    "\n",
    "view_lin_predict = view_lin.predict(x_test)\n",
    "view_lin_score = view_lin.score(x_test, y_test)"
   ]
  },
  {
   "cell_type": "markdown",
   "metadata": {
    "slideshow": {
     "slide_type": "-"
    }
   },
   "source": [
    "***\n",
    "***\n",
    "***\n",
    "***\n",
    "***\n",
    "***\n",
    "***\n",
    "***\n",
    "***"
   ]
  },
  {
   "cell_type": "markdown",
   "metadata": {
    "slideshow": {
     "slide_type": "subslide"
    }
   },
   "source": [
    "Let's start with a simple Linear Regression model to predict the number of views a question will get"
   ]
  },
  {
   "cell_type": "code",
   "execution_count": 91,
   "metadata": {
    "slideshow": {
     "slide_type": "fragment"
    }
   },
   "outputs": [
    {
     "name": "stdout",
     "output_type": "stream",
     "text": [
      "Accuracy score for the view_count linear regression model:  0.44\n"
     ]
    }
   ],
   "source": [
    "print(\"Accuracy score for the view_count linear regression model: % 0.02f\" % view_lin_score)"
   ]
  },
  {
   "cell_type": "markdown",
   "metadata": {
    "slideshow": {
     "slide_type": "subslide"
    }
   },
   "source": [
    "The base accuracy score on this particular model is below optimal, 0.44. Just guessing would do better then that!\n",
    "\n",
    "I do use a random seed, and it may just be based entirely on chance, so let's do a cross-validation to see how it performs overall / on new incoming data"
   ]
  },
  {
   "cell_type": "code",
   "execution_count": 92,
   "metadata": {
    "slideshow": {
     "slide_type": "fragment"
    }
   },
   "outputs": [
    {
     "name": "stdout",
     "output_type": "stream",
     "text": [
      "linear model accuracy on view_count: 0.11 (+/- 1.94)\n"
     ]
    }
   ],
   "source": [
    "scores = cross_val_score(view_lin, x_train, y_train, cv=10)\n",
    "print(\"linear model accuracy on view_count: %0.2f (+/- %0.2f)\" % (scores.mean(), scores.std() * 2))"
   ]
  },
  {
   "cell_type": "markdown",
   "metadata": {
    "slideshow": {
     "slide_type": "fragment"
    }
   },
   "source": [
    "Well, this proves that a linear model for this is **not** the best fit for view_count. The highest accuracy score that a model can get is 1.0, and the standard deviation here is **1.94**\n",
    "\n",
    "Let's try a different model."
   ]
  },
  {
   "cell_type": "code",
   "execution_count": 93,
   "metadata": {
    "slideshow": {
     "slide_type": "subslide"
    }
   },
   "outputs": [
    {
     "data": {
      "text/plain": [
       "0.34362586976222786"
      ]
     },
     "execution_count": 93,
     "metadata": {},
     "output_type": "execute_result"
    }
   ],
   "source": [
    "tree = DecisionTreeRegressor(max_depth=15)\n",
    "tree.fit(x_train, y_train)\n",
    "tree.score(x_test,y_test)"
   ]
  },
  {
   "cell_type": "code",
   "execution_count": 94,
   "metadata": {
    "slideshow": {
     "slide_type": "fragment"
    }
   },
   "outputs": [
    {
     "name": "stdout",
     "output_type": "stream",
     "text": [
      "Decision Tree model accuracy on view_count: -0.02 (+/- 1.39)\n"
     ]
    }
   ],
   "source": [
    "scores = cross_val_score(tree, x_train, y_train, cv=10)\n",
    "print(\"Decision Tree model accuracy on view_count: %0.2f (+/- %0.2f)\" % (scores.mean(), scores.std() * 2))"
   ]
  },
  {
   "cell_type": "markdown",
   "metadata": {
    "slideshow": {
     "slide_type": "fragment"
    }
   },
   "source": [
    "A decision tree is a *better* model, but that's only relative.\n",
    "\n",
    "Let's step away from view_count.\n",
    "\n",
    "One of the issues here might be that view_count has a huge amount of variance."
   ]
  },
  {
   "cell_type": "markdown",
   "metadata": {
    "slideshow": {
     "slide_type": "subslide"
    }
   },
   "source": [
    "### -> popularity"
   ]
  },
  {
   "cell_type": "code",
   "execution_count": 95,
   "metadata": {
    "slideshow": {
     "slide_type": "fragment"
    }
   },
   "outputs": [],
   "source": [
    "# I mostly don't want to deal with id's / any categorical value with too many unique values\n",
    "# It would be cheating to use view_count so it's dropped as well\n",
    "cols_to_drop = ['id', 'accepted_answer_id', 'last_editor_user_id', 'owner_user_id', 'post_type_id',\n",
    "               'tags', 'title', 'body', 'last_activity_date', 'last_edit_date',\n",
    "               'creation_date', 'view_count']\n",
    "y_pro, df_pro = preprocess_data(df.drop(cols_to_drop, axis = 1), 'popularity')\n",
    "\n",
    "x_train, x_test, y_train, y_test = train_test_split(df_pro,\n",
    "                                                    y_pro,\n",
    "                                                    test_size=0.20,\n",
    "                                                    random_state = random.randint(0,100))\n",
    "\n",
    "pop_lin = linear_model.LinearRegression()\n",
    "pop_lin.fit(x_train,y_train)\n",
    "\n",
    "y_preds = pop_lin.predict(x_test)\n",
    "\n",
    "pop_lin_predict = pop_lin.predict(x_test)\n",
    "pop_lin_score = pop_lin.score(x_test, y_test)"
   ]
  },
  {
   "cell_type": "code",
   "execution_count": 96,
   "metadata": {
    "slideshow": {
     "slide_type": "fragment"
    }
   },
   "outputs": [
    {
     "name": "stdout",
     "output_type": "stream",
     "text": [
      "Accuracy score for the pop_lin linear regression model:  0.25\n"
     ]
    }
   ],
   "source": [
    "print(\"Accuracy score for the pop_lin linear regression model: % 0.02f\" % pop_lin_score)"
   ]
  },
  {
   "cell_type": "code",
   "execution_count": 97,
   "metadata": {
    "slideshow": {
     "slide_type": "subslide"
    }
   },
   "outputs": [
    {
     "name": "stdout",
     "output_type": "stream",
     "text": [
      "linear model RMSE: 0.36 (+/- 0.03)\n"
     ]
    }
   ],
   "source": [
    "scores = cross_val_score(pop_lin, x_train, y_train, cv=10)\n",
    "print(\"linear model RMSE: %0.2f (+/- %0.2f)\" % (scores.mean(), scores.std() * 2))"
   ]
  },
  {
   "cell_type": "markdown",
   "metadata": {
    "slideshow": {
     "slide_type": "fragment"
    }
   },
   "source": [
    "Better, but still not great! The standard deviation is much smaller here, so binning the values of view_count helped deal with the high amount of variance inherent in the variable.\n",
    "\n",
    "popularity only has 10 possible values, 1-10, each representing a bin of view_count values\n",
    "\n",
    "However, the majority of values for popularity will be just 1, which makes sense. Most questions submitted to a popular website won't get the same individual attention. Let's see the accuracy score when you only guess 1"
   ]
  },
  {
   "cell_type": "code",
   "execution_count": 98,
   "metadata": {
    "slideshow": {
     "slide_type": "subslide"
    }
   },
   "outputs": [
    {
     "name": "stdout",
     "output_type": "stream",
     "text": [
      "Baseline ones accuracy:  0.7884615384615384\n"
     ]
    }
   ],
   "source": [
    "#baseline accuracy only using all 1s as a predictjjion\n",
    "all_ones = np.ones(len(y_train))\n",
    "print('Baseline ones accuracy: ', accuracy_score(y_train, all_ones))"
   ]
  },
  {
   "cell_type": "markdown",
   "metadata": {
    "slideshow": {
     "slide_type": "fragment"
    }
   },
   "source": [
    "Our model was beaten by a list of 1s! How shameful\n",
    "\n",
    "Let's try a different approach. We've been treating popularity as a task of regression, which makes sense, it is a numerical value after all.\n",
    "\n",
    "But, let's try treating it as a Classifier problem. One that has only 10 possible values."
   ]
  },
  {
   "cell_type": "code",
   "execution_count": 99,
   "metadata": {
    "slideshow": {
     "slide_type": "fragment"
    }
   },
   "outputs": [
    {
     "data": {
      "text/plain": [
       "0.8021538461538461"
      ]
     },
     "execution_count": 99,
     "metadata": {},
     "output_type": "execute_result"
    }
   ],
   "source": [
    "tree = DecisionTreeClassifier(max_depth=5)\n",
    "tree.fit(x_train, y_train)\n",
    "tree.score(x_test,y_test)"
   ]
  },
  {
   "cell_type": "code",
   "execution_count": 100,
   "metadata": {
    "slideshow": {
     "slide_type": "fragment"
    }
   },
   "outputs": [
    {
     "name": "stdout",
     "output_type": "stream",
     "text": [
      "Decision Tree model accuracy on popularity: 0.81 (+/- 0.00)\n"
     ]
    }
   ],
   "source": [
    "scores = cross_val_score(tree, x_train, y_train, cv=10)\n",
    "print(\"Decision Tree model accuracy on popularity: %0.2f (+/- %0.2f)\" % (scores.mean(), scores.std() * 2))"
   ]
  },
  {
   "cell_type": "markdown",
   "metadata": {
    "slideshow": {
     "slide_type": "fragment"
    }
   },
   "source": [
    "We've beaten the list of 1's! Not by much though. Let's take a deeper look at how the prediction breaks down"
   ]
  },
  {
   "cell_type": "code",
   "execution_count": 101,
   "metadata": {
    "slideshow": {
     "slide_type": "subslide"
    }
   },
   "outputs": [
    {
     "data": {
      "image/png": "[encoded data removed]",
      "text/plain": [
       "<Figure size 1368x576 with 2 Axes>"
      ]
     },
     "metadata": {
      "needs_background": "light"
     },
     "output_type": "display_data"
    }
   ],
   "source": [
    "tree_predict = tree.predict(x_test)\n",
    "tree_score = tree.score(x_test, y_test)\n",
    "cm = confusion_matrix(y_test, tree_predict)\n",
    "    \n",
    "plt.figure(figsize=(global_width + 5, global_height))\n",
    "sns.heatmap(cm, annot=True, fmt=\".3f\", linewidths=.5, square = True, cmap = 'Blues_r');\n",
    "plt.ylabel('Actual label');\n",
    "plt.xlabel('Predicted label');\n",
    "all_sample_title = 'Accuracy Score: {0}'.format(tree_score)\n",
    "plt.title(all_sample_title, size = 15);"
   ]
  },
  {
   "cell_type": "markdown",
   "metadata": {},
   "source": [
    "***\n",
    "***\n",
    "***\n",
    "***\n",
    "***\n",
    "***\n",
    "***\n",
    "***\n",
    "***\n",
    "***\n",
    "***\n",
    "***\n",
    "***\n",
    "***\n",
    "***\n",
    "***\n",
    "***\n",
    "***\n",
    "***\n",
    "***"
   ]
  },
  {
   "cell_type": "markdown",
   "metadata": {
    "slideshow": {
     "slide_type": "subslide"
    }
   },
   "source": [
    "The confusion matrix really gets to the heart of the matter.\n",
    "\n",
    "The model only correctly predicts these possible values:\n",
    "\n",
    "- 1\n",
    "- 2\n",
    "- 10\n",
    "\n",
    "Even as a binned value of a variable with high and low extremes, it still suffers from similar problems as trying to predict view_count did. It can predict 1s reliably well, it can predict 10s reliably well, but everything else is likely to be a failure."
   ]
  },
  {
   "cell_type": "markdown",
   "metadata": {
    "slideshow": {
     "slide_type": "skip"
    }
   },
   "source": [
    "***"
   ]
  },
  {
   "cell_type": "markdown",
   "metadata": {
    "slideshow": {
     "slide_type": "subslide"
    }
   },
   "source": [
    "### -> main_tag"
   ]
  },
  {
   "cell_type": "markdown",
   "metadata": {
    "slideshow": {
     "slide_type": "fragment"
    }
   },
   "source": [
    "Is it possible to predict the main_tag of a post? The majority of the time this will be the programming language that the question is referencing."
   ]
  },
  {
   "cell_type": "code",
   "execution_count": 18,
   "metadata": {
    "slideshow": {
     "slide_type": "fragment"
    }
   },
   "outputs": [
    {
     "data": {
      "text/plain": [
       "0.7960580756789287"
      ]
     },
     "execution_count": 18,
     "metadata": {},
     "output_type": "execute_result"
    }
   ],
   "source": [
    "df['main_tag'] = df['main_tag'].astype(str)\n",
    "\n",
    "# I mostly don't want to deal with id's / any categorical value with too many unique values\n",
    "# Dropping main_tag_code bc that'd be cheating\n",
    "cols_to_drop = ['id', 'last_editor_user_id', 'owner_user_id', 'post_type_id',\n",
    "               'tags', 'title', 'body', 'last_activity_date', 'last_edit_date',\n",
    "               'creation_date']\n",
    "y_pro, df_pro = preprocess_data(df.drop(cols_to_drop, axis = 1), 'main_tag')\n",
    "\n",
    "x_train, x_test, y_train, y_test = train_test_split(df_pro,\n",
    "                                                    y_pro,\n",
    "                                                    test_size=0.20,\n",
    "                                                    random_state = random.randint(0,100))\n",
    "\n",
    "tree = DecisionTreeClassifier(max_depth=15)\n",
    "tree.fit(x_train, y_train)\n",
    "tree.score(x_test,y_test)"
   ]
  },
  {
   "cell_type": "code",
   "execution_count": 19,
   "metadata": {
    "slideshow": {
     "slide_type": "subslide"
    }
   },
   "outputs": [],
   "source": [
    "df['main_tag'] = df['main_tag'].astype(str)\n",
    "\n",
    "# I mostly don't want to deal with id's / any categorical value with too many unique values\n",
    "# Dropping main_tag_code bc that'd be cheating\n",
    "cols_to_drop = ['id', 'last_editor_user_id', 'owner_user_id', 'post_type_id',\n",
    "               'tags', 'title', 'body', 'last_activity_date', 'last_edit_date',\n",
    "               'creation_date']\n",
    "y_pro, df_pro = preprocess_data(df.drop(cols_to_drop, axis = 1), 'main_tag')\n",
    "\n",
    "x_train, x_test, y_train, y_test = train_test_split(df_pro,\n",
    "                                                    y_pro,\n",
    "                                                    test_size=0.20,\n",
    "                                                    random_state = random.randint(0,100))"
   ]
  },
  {
   "cell_type": "code",
   "execution_count": 20,
   "metadata": {
    "slideshow": {
     "slide_type": "fragment"
    }
   },
   "outputs": [
    {
     "data": {
      "text/plain": [
       "0.801907914297894"
      ]
     },
     "execution_count": 20,
     "metadata": {},
     "output_type": "execute_result"
    }
   ],
   "source": [
    "tree = DecisionTreeClassifier(max_depth=10)\n",
    "tree.fit(x_train, y_train)\n",
    "tree.score(x_test,y_test)"
   ]
  },
  {
   "cell_type": "code",
   "execution_count": 21,
   "metadata": {
    "slideshow": {
     "slide_type": "fragment"
    }
   },
   "outputs": [
    {
     "name": "stdout",
     "output_type": "stream",
     "text": [
      "baseline zeros accuracy:  0.8031926993310108\n"
     ]
    }
   ],
   "source": [
    "a = np.array(['python' for _ in range(len(y_train))])\n",
    "print('baseline zeros accuracy: ', accuracy_score(y_train, a))"
   ]
  },
  {
   "cell_type": "code",
   "execution_count": 22,
   "metadata": {
    "slideshow": {
     "slide_type": "subslide"
    }
   },
   "outputs": [
    {
     "name": "stdout",
     "output_type": "stream",
     "text": [
      "Decision Tree model accuracy on main_tag: 0.80 (+/- 0.00)\n"
     ]
    }
   ],
   "source": [
    "scores = cross_val_score(tree, x_train, y_train, cv=10)\n",
    "print(\"Decision Tree model accuracy on main_tag: %0.2f (+/- %0.2f)\" % (scores.mean(), scores.std() * 2))"
   ]
  },
  {
   "cell_type": "markdown",
   "metadata": {
    "slideshow": {
     "slide_type": "fragment"
    }
   },
   "source": [
    "A Decision Tree does a really strong job of predicting the main_tag! The cross_val_score also gives us some confidence that it's not just overfitting the test data as well"
   ]
  },
  {
   "cell_type": "markdown",
   "metadata": {
    "slideshow": {
     "slide_type": "skip"
    }
   },
   "source": [
    "***"
   ]
  },
  {
   "cell_type": "markdown",
   "metadata": {
    "slideshow": {
     "slide_type": "slide"
    }
   },
   "source": [
    "# Insights into the Data"
   ]
  },
  {
   "cell_type": "code",
   "execution_count": 23,
   "metadata": {
    "slideshow": {
     "slide_type": "skip"
    }
   },
   "outputs": [],
   "source": [
    "# Sample size to practice with, only 30,000 cases\n",
    "df_sample = df.sample(30000,\n",
    "                      random_state = 1)"
   ]
  },
  {
   "cell_type": "markdown",
   "metadata": {
    "slideshow": {
     "slide_type": "fragment"
    }
   },
   "source": [
    "Now that we have the data into a shape that's:\n",
    "- Organized\n",
    "- Feature Engineered\n",
    "- Much larger than the original 5,000 sample\n",
    "\n",
    "We are ready to ask questions about it."
   ]
  },
  {
   "cell_type": "markdown",
   "metadata": {
    "slideshow": {
     "slide_type": "fragment"
    }
   },
   "source": [
    "As someone who is more used to coding in R, I found a package, **dfply**, that allows me to explore data in a similar way, the upcoming code blocks do this for me"
   ]
  },
  {
   "cell_type": "code",
   "execution_count": 36,
   "metadata": {
    "slideshow": {
     "slide_type": "subslide"
    }
   },
   "outputs": [
    {
     "data": {
      "text/html": [
       "<div>\n",
       "<style scoped>\n",
       "    .dataframe tbody tr th:only-of-type {\n",
       "        vertical-align: middle;\n",
       "    }\n",
       "\n",
       "    .dataframe tbody tr th {\n",
       "        vertical-align: top;\n",
       "    }\n",
       "\n",
       "    .dataframe thead th {\n",
       "        text-align: right;\n",
       "    }\n",
       "</style>\n",
       "<table border=\"1\" class=\"dataframe\">\n",
       "  <thead>\n",
       "    <tr style=\"text-align: right;\">\n",
       "      <th></th>\n",
       "      <th>main_tag</th>\n",
       "      <th>sum_comment</th>\n",
       "      <th>sum_answer</th>\n",
       "      <th>sum_fave</th>\n",
       "      <th>sum_view</th>\n",
       "      <th>sum_score</th>\n",
       "      <th>code</th>\n",
       "      <th>n</th>\n",
       "      <th>code_percent</th>\n",
       "    </tr>\n",
       "  </thead>\n",
       "  <tbody>\n",
       "    <tr>\n",
       "      <th>1689</th>\n",
       "      <td>javascript</td>\n",
       "      <td>44031</td>\n",
       "      <td>31855</td>\n",
       "      <td>12829.0</td>\n",
       "      <td>52202314</td>\n",
       "      <td>42107</td>\n",
       "      <td>16864</td>\n",
       "      <td>19553</td>\n",
       "      <td>0.862476</td>\n",
       "    </tr>\n",
       "    <tr>\n",
       "      <th>1673</th>\n",
       "      <td>java</td>\n",
       "      <td>38254</td>\n",
       "      <td>28320</td>\n",
       "      <td>10301.0</td>\n",
       "      <td>47821862</td>\n",
       "      <td>33393</td>\n",
       "      <td>13329</td>\n",
       "      <td>16561</td>\n",
       "      <td>0.804843</td>\n",
       "    </tr>\n",
       "    <tr>\n",
       "      <th>467</th>\n",
       "      <td>c#</td>\n",
       "      <td>33206</td>\n",
       "      <td>23679</td>\n",
       "      <td>7600.0</td>\n",
       "      <td>34823130</td>\n",
       "      <td>28585</td>\n",
       "      <td>11093</td>\n",
       "      <td>13899</td>\n",
       "      <td>0.798115</td>\n",
       "    </tr>\n",
       "    <tr>\n",
       "      <th>2484</th>\n",
       "      <td>php</td>\n",
       "      <td>32178</td>\n",
       "      <td>20898</td>\n",
       "      <td>4756.0</td>\n",
       "      <td>22097104</td>\n",
       "      <td>14389</td>\n",
       "      <td>10683</td>\n",
       "      <td>12629</td>\n",
       "      <td>0.845910</td>\n",
       "    </tr>\n",
       "    <tr>\n",
       "      <th>2635</th>\n",
       "      <td>python</td>\n",
       "      <td>24294</td>\n",
       "      <td>17981</td>\n",
       "      <td>7751.0</td>\n",
       "      <td>26673281</td>\n",
       "      <td>25859</td>\n",
       "      <td>10395</td>\n",
       "      <td>11826</td>\n",
       "      <td>0.878995</td>\n",
       "    </tr>\n",
       "    <tr>\n",
       "      <th>118</th>\n",
       "      <td>android</td>\n",
       "      <td>18895</td>\n",
       "      <td>15124</td>\n",
       "      <td>7776.0</td>\n",
       "      <td>25876823</td>\n",
       "      <td>22377</td>\n",
       "      <td>7061</td>\n",
       "      <td>10266</td>\n",
       "      <td>0.687804</td>\n",
       "    </tr>\n",
       "    <tr>\n",
       "      <th>470</th>\n",
       "      <td>c++</td>\n",
       "      <td>21134</td>\n",
       "      <td>11865</td>\n",
       "      <td>6230.0</td>\n",
       "      <td>15912330</td>\n",
       "      <td>20179</td>\n",
       "      <td>5327</td>\n",
       "      <td>6394</td>\n",
       "      <td>0.833125</td>\n",
       "    </tr>\n",
       "    <tr>\n",
       "      <th>1627</th>\n",
       "      <td>ios</td>\n",
       "      <td>12002</td>\n",
       "      <td>9224</td>\n",
       "      <td>4008.0</td>\n",
       "      <td>10142337</td>\n",
       "      <td>11723</td>\n",
       "      <td>4230</td>\n",
       "      <td>6198</td>\n",
       "      <td>0.682478</td>\n",
       "    </tr>\n",
       "    <tr>\n",
       "      <th>1752</th>\n",
       "      <td>jquery</td>\n",
       "      <td>7360</td>\n",
       "      <td>6455</td>\n",
       "      <td>1306.0</td>\n",
       "      <td>8699185</td>\n",
       "      <td>4780</td>\n",
       "      <td>3353</td>\n",
       "      <td>3917</td>\n",
       "      <td>0.856012</td>\n",
       "    </tr>\n",
       "    <tr>\n",
       "      <th>1484</th>\n",
       "      <td>html</td>\n",
       "      <td>7102</td>\n",
       "      <td>6694</td>\n",
       "      <td>2148.0</td>\n",
       "      <td>11056590</td>\n",
       "      <td>7210</td>\n",
       "      <td>2976</td>\n",
       "      <td>3585</td>\n",
       "      <td>0.830126</td>\n",
       "    </tr>\n",
       "  </tbody>\n",
       "</table>\n",
       "</div>"
      ],
      "text/plain": [
       "        main_tag  sum_comment  sum_answer  sum_fave  sum_view  sum_score   code      n  code_percent\n",
       "1689  javascript        44031       31855   12829.0  52202314      42107  16864  19553      0.862476\n",
       "1673        java        38254       28320   10301.0  47821862      33393  13329  16561      0.804843\n",
       "467           c#        33206       23679    7600.0  34823130      28585  11093  13899      0.798115\n",
       "2484         php        32178       20898    4756.0  22097104      14389  10683  12629      0.845910\n",
       "2635      python        24294       17981    7751.0  26673281      25859  10395  11826      0.878995\n",
       "118      android        18895       15124    7776.0  25876823      22377   7061  10266      0.687804\n",
       "470          c++        21134       11865    6230.0  15912330      20179   5327   6394      0.833125\n",
       "1627         ios        12002        9224    4008.0  10142337      11723   4230   6198      0.682478\n",
       "1752      jquery         7360        6455    1306.0   8699185       4780   3353   3917      0.856012\n",
       "1484        html         7102        6694    2148.0  11056590       7210   2976   3585      0.830126"
      ]
     },
     "execution_count": 36,
     "metadata": {},
     "output_type": "execute_result"
    }
   ],
   "source": [
    "# Getting a dataframe of the most popular tags, along with what percent of users put code in their question\n",
    "code_tags = (df >>\n",
    " filter_by(X.creation_year < 2019) >>\n",
    " select(X.main_tag, X.code, X.score, X.view_count,\n",
    "       X.answer_count, X.comment_count, X.favorite_count) >>\n",
    " group_by(X.main_tag) >>\n",
    " summarize(sum_comment = X.comment_count.sum(),\n",
    "           sum_answer = X.answer_count.sum(),\n",
    "           sum_fave = X.favorite_count.sum(),\n",
    "           sum_view = X.view_count.sum(),\n",
    "           sum_score = X.score.sum(),\n",
    "           code = X.code.sum(),\n",
    "           n = n(X.main_tag)) >>\n",
    " mutate(code_percent = X.code / X.n) >>\n",
    " ungroup() >>\n",
    " arrange(X.n, X.code_percent, X.code, ascending = False)\n",
    ")\n",
    "\n",
    "code_tags.head(10)"
   ]
  },
  {
   "cell_type": "markdown",
   "metadata": {
    "slideshow": {
     "slide_type": "fragment"
    }
   },
   "source": [
    "**code_tags** is an organized DataFrame of each of the main_tags, which for the most part will represent different languages people program in, with some good Data\n",
    "\n",
    "Here we can see that Javascript, Java, and C# are the top three most popular tags within this dataset"
   ]
  },
  {
   "cell_type": "code",
   "execution_count": 37,
   "metadata": {
    "slideshow": {
     "slide_type": "subslide"
    }
   },
   "outputs": [
    {
     "data": {
      "text/html": [
       "<div>\n",
       "<style scoped>\n",
       "    .dataframe tbody tr th:only-of-type {\n",
       "        vertical-align: middle;\n",
       "    }\n",
       "\n",
       "    .dataframe tbody tr th {\n",
       "        vertical-align: top;\n",
       "    }\n",
       "\n",
       "    .dataframe thead th {\n",
       "        text-align: right;\n",
       "    }\n",
       "</style>\n",
       "<table border=\"1\" class=\"dataframe\">\n",
       "  <thead>\n",
       "    <tr style=\"text-align: right;\">\n",
       "      <th></th>\n",
       "      <th>main_tag</th>\n",
       "      <th>sum_comment</th>\n",
       "      <th>sum_answer</th>\n",
       "      <th>sum_fave</th>\n",
       "      <th>sum_view</th>\n",
       "      <th>sum_score</th>\n",
       "      <th>code</th>\n",
       "      <th>n</th>\n",
       "      <th>code_percent</th>\n",
       "    </tr>\n",
       "  </thead>\n",
       "  <tbody>\n",
       "    <tr>\n",
       "      <th>2671</th>\n",
       "      <td>r</td>\n",
       "      <td>5833</td>\n",
       "      <td>3733</td>\n",
       "      <td>1453.0</td>\n",
       "      <td>3890723</td>\n",
       "      <td>5009</td>\n",
       "      <td>2687</td>\n",
       "      <td>2920</td>\n",
       "      <td>0.920205</td>\n",
       "    </tr>\n",
       "    <tr>\n",
       "      <th>2635</th>\n",
       "      <td>python</td>\n",
       "      <td>24294</td>\n",
       "      <td>17981</td>\n",
       "      <td>7751.0</td>\n",
       "      <td>26673281</td>\n",
       "      <td>25859</td>\n",
       "      <td>10395</td>\n",
       "      <td>11826</td>\n",
       "      <td>0.878995</td>\n",
       "    </tr>\n",
       "    <tr>\n",
       "      <th>466</th>\n",
       "      <td>c</td>\n",
       "      <td>10529</td>\n",
       "      <td>5686</td>\n",
       "      <td>1562.0</td>\n",
       "      <td>6657563</td>\n",
       "      <td>5487</td>\n",
       "      <td>2452</td>\n",
       "      <td>2837</td>\n",
       "      <td>0.864293</td>\n",
       "    </tr>\n",
       "    <tr>\n",
       "      <th>1689</th>\n",
       "      <td>javascript</td>\n",
       "      <td>44031</td>\n",
       "      <td>31855</td>\n",
       "      <td>12829.0</td>\n",
       "      <td>52202314</td>\n",
       "      <td>42107</td>\n",
       "      <td>16864</td>\n",
       "      <td>19553</td>\n",
       "      <td>0.862476</td>\n",
       "    </tr>\n",
       "    <tr>\n",
       "      <th>1752</th>\n",
       "      <td>jquery</td>\n",
       "      <td>7360</td>\n",
       "      <td>6455</td>\n",
       "      <td>1306.0</td>\n",
       "      <td>8699185</td>\n",
       "      <td>4780</td>\n",
       "      <td>3353</td>\n",
       "      <td>3917</td>\n",
       "      <td>0.856012</td>\n",
       "    </tr>\n",
       "    <tr>\n",
       "      <th>3122</th>\n",
       "      <td>sql</td>\n",
       "      <td>8083</td>\n",
       "      <td>6615</td>\n",
       "      <td>1748.0</td>\n",
       "      <td>10083989</td>\n",
       "      <td>5956</td>\n",
       "      <td>2881</td>\n",
       "      <td>3398</td>\n",
       "      <td>0.847852</td>\n",
       "    </tr>\n",
       "    <tr>\n",
       "      <th>2484</th>\n",
       "      <td>php</td>\n",
       "      <td>32178</td>\n",
       "      <td>20898</td>\n",
       "      <td>4756.0</td>\n",
       "      <td>22097104</td>\n",
       "      <td>14389</td>\n",
       "      <td>10683</td>\n",
       "      <td>12629</td>\n",
       "      <td>0.845910</td>\n",
       "    </tr>\n",
       "    <tr>\n",
       "      <th>2833</th>\n",
       "      <td>ruby-on-rails</td>\n",
       "      <td>4608</td>\n",
       "      <td>4508</td>\n",
       "      <td>1756.0</td>\n",
       "      <td>3976489</td>\n",
       "      <td>5867</td>\n",
       "      <td>2562</td>\n",
       "      <td>3052</td>\n",
       "      <td>0.839450</td>\n",
       "    </tr>\n",
       "    <tr>\n",
       "      <th>470</th>\n",
       "      <td>c++</td>\n",
       "      <td>21134</td>\n",
       "      <td>11865</td>\n",
       "      <td>6230.0</td>\n",
       "      <td>15912330</td>\n",
       "      <td>20179</td>\n",
       "      <td>5327</td>\n",
       "      <td>6394</td>\n",
       "      <td>0.833125</td>\n",
       "    </tr>\n",
       "    <tr>\n",
       "      <th>1484</th>\n",
       "      <td>html</td>\n",
       "      <td>7102</td>\n",
       "      <td>6694</td>\n",
       "      <td>2148.0</td>\n",
       "      <td>11056590</td>\n",
       "      <td>7210</td>\n",
       "      <td>2976</td>\n",
       "      <td>3585</td>\n",
       "      <td>0.830126</td>\n",
       "    </tr>\n",
       "    <tr>\n",
       "      <th>2146</th>\n",
       "      <td>mysql</td>\n",
       "      <td>6385</td>\n",
       "      <td>4942</td>\n",
       "      <td>1419.0</td>\n",
       "      <td>5997988</td>\n",
       "      <td>4326</td>\n",
       "      <td>2514</td>\n",
       "      <td>3058</td>\n",
       "      <td>0.822106</td>\n",
       "    </tr>\n",
       "    <tr>\n",
       "      <th>1673</th>\n",
       "      <td>java</td>\n",
       "      <td>38254</td>\n",
       "      <td>28320</td>\n",
       "      <td>10301.0</td>\n",
       "      <td>47821862</td>\n",
       "      <td>33393</td>\n",
       "      <td>13329</td>\n",
       "      <td>16561</td>\n",
       "      <td>0.804843</td>\n",
       "    </tr>\n",
       "    <tr>\n",
       "      <th>467</th>\n",
       "      <td>c#</td>\n",
       "      <td>33206</td>\n",
       "      <td>23679</td>\n",
       "      <td>7600.0</td>\n",
       "      <td>34823130</td>\n",
       "      <td>28585</td>\n",
       "      <td>11093</td>\n",
       "      <td>13899</td>\n",
       "      <td>0.798115</td>\n",
       "    </tr>\n",
       "    <tr>\n",
       "      <th>118</th>\n",
       "      <td>android</td>\n",
       "      <td>18895</td>\n",
       "      <td>15124</td>\n",
       "      <td>7776.0</td>\n",
       "      <td>25876823</td>\n",
       "      <td>22377</td>\n",
       "      <td>7061</td>\n",
       "      <td>10266</td>\n",
       "      <td>0.687804</td>\n",
       "    </tr>\n",
       "    <tr>\n",
       "      <th>1627</th>\n",
       "      <td>ios</td>\n",
       "      <td>12002</td>\n",
       "      <td>9224</td>\n",
       "      <td>4008.0</td>\n",
       "      <td>10142337</td>\n",
       "      <td>11723</td>\n",
       "      <td>4230</td>\n",
       "      <td>6198</td>\n",
       "      <td>0.682478</td>\n",
       "    </tr>\n",
       "  </tbody>\n",
       "</table>\n",
       "</div>"
      ],
      "text/plain": [
       "           main_tag  sum_comment  sum_answer  sum_fave  sum_view  sum_score   code      n  code_percent\n",
       "2671              r         5833        3733    1453.0   3890723       5009   2687   2920      0.920205\n",
       "2635         python        24294       17981    7751.0  26673281      25859  10395  11826      0.878995\n",
       "466               c        10529        5686    1562.0   6657563       5487   2452   2837      0.864293\n",
       "1689     javascript        44031       31855   12829.0  52202314      42107  16864  19553      0.862476\n",
       "1752         jquery         7360        6455    1306.0   8699185       4780   3353   3917      0.856012\n",
       "3122            sql         8083        6615    1748.0  10083989       5956   2881   3398      0.847852\n",
       "2484            php        32178       20898    4756.0  22097104      14389  10683  12629      0.845910\n",
       "2833  ruby-on-rails         4608        4508    1756.0   3976489       5867   2562   3052      0.839450\n",
       "470             c++        21134       11865    6230.0  15912330      20179   5327   6394      0.833125\n",
       "1484           html         7102        6694    2148.0  11056590       7210   2976   3585      0.830126\n",
       "2146          mysql         6385        4942    1419.0   5997988       4326   2514   3058      0.822106\n",
       "1673           java        38254       28320   10301.0  47821862      33393  13329  16561      0.804843\n",
       "467              c#        33206       23679    7600.0  34823130      28585  11093  13899      0.798115\n",
       "118         android        18895       15124    7776.0  25876823      22377   7061  10266      0.687804\n",
       "1627            ios        12002        9224    4008.0  10142337      11723   4230   6198      0.682478"
      ]
     },
     "execution_count": 37,
     "metadata": {},
     "output_type": "execute_result"
    }
   ],
   "source": [
    "(code_tags >>\n",
    "    filter_by(X.n > 2000) >>\n",
    "    arrange(X.code_percent, ascending = False))"
   ]
  },
  {
   "cell_type": "markdown",
   "metadata": {
    "slideshow": {
     "slide_type": "fragment"
    }
   },
   "source": [
    "R and Python are the two languages that are most likely to provide code with their post, which is good for us as Data Scientists\n",
    "\n",
    "We can look at how languages change overtime as well, how their popularity grows and shifts. Speaking of Python and R, let's see how they have grown and changed overtime, and what their popularity as languages looks like"
   ]
  },
  {
   "cell_type": "code",
   "execution_count": 26,
   "metadata": {
    "slideshow": {
     "slide_type": "subslide"
    }
   },
   "outputs": [],
   "source": [
    "# This determines the tags that you're looking for!\n",
    "tags_filter = ['python']\n",
    "\n",
    "# Popular tags over time\n",
    "tag_time = (df[df.main_tag.isin(tags_filter)] >>\n",
    " # This group_by determines the level of granularity. You could add X.creation_day, or even X.creation_hour to get a more\n",
    " # detailed graph\n",
    " group_by(X.creation_year, X.creation_month) >>\n",
    " summarize(main_tag = first(X.main_tag),\n",
    "           n = n(X.main_tag))\n",
    ")\n",
    "\n",
    "tag_time['date'] = tag_time.creation_year.astype('str') + '-' + tag_time.creation_month.astype('str') + '-01'\n",
    "tag_time['date'] = pd.to_datetime(tag_time['date'])\n",
    "tag_time.index = tag_time.date\n",
    "\n",
    "tag_p = tag_time.copy()\n",
    "# The last one seems to always be smaller than the rest, taking it away helps the visualization\n",
    "tag_p = tag_p[:-1]\n",
    "\n",
    "# This determines the tags that you're looking for!\n",
    "tags_filter = ['r']\n",
    "\n",
    "# Popular tags over time\n",
    "tag_time = (df[df.main_tag.isin(tags_filter)] >>\n",
    " #select(X.main_tag, X.creation_date) >>\n",
    " group_by(X.creation_year, X.creation_month) >>\n",
    " summarize(main_tag = first(X.main_tag),\n",
    "           n = n(X.main_tag))\n",
    ")\n",
    "\n",
    "tag_time['date'] = tag_time.creation_year.astype('str') + '-' + tag_time.creation_month.astype('str') + '-01'\n",
    "tag_time['date'] = pd.to_datetime(tag_time['date'])\n",
    "tag_time.index = tag_time.date\n",
    "\n",
    "tag_r = tag_time.copy()\n",
    "tag_r = tag_r[:-1]"
   ]
  },
  {
   "cell_type": "markdown",
   "metadata": {},
   "source": [
    "***\n",
    "***\n",
    "***\n",
    "***\n",
    "***\n",
    "***\n",
    "***\n",
    "***\n",
    "***\n",
    "***\n",
    "***\n",
    "***\n",
    "***\n",
    "***\n",
    "***\n",
    "***\n",
    "***\n",
    "***\n",
    "***\n",
    "***"
   ]
  },
  {
   "cell_type": "code",
   "execution_count": 27,
   "metadata": {
    "slideshow": {
     "slide_type": "subslide"
    }
   },
   "outputs": [],
   "source": [
    "p_y = tag_p.copy()\n",
    "r_y = tag_r.copy()\n",
    "\n",
    "# The number of 'seasons' indicates how many ups and downs there are\n",
    "# I also used it as a time indicator\n",
    "seasons = 30\n",
    "assert(seasons < len(tag_time))\n",
    "\n",
    "p_fit = sm.tsa.ExponentialSmoothing(np.asarray(tag_p['n']),\n",
    "                                   seasonal_periods= seasons,\n",
    "                                   trend='add',\n",
    "                                   seasonal='add',).fit()\n",
    "r_fit = sm.tsa.ExponentialSmoothing(np.asarray(tag_r['n']),\n",
    "                                   seasonal_periods= seasons,\n",
    "                                   trend='add',\n",
    "                                   seasonal='add',).fit()\n",
    "p_y['Holt_Winter'] = p_fit.forecast(len(tag_p))\n",
    "r_y['Holt_Winter'] = r_fit.forecast(len(tag_r))\n",
    "\n",
    "days = p_y.index[len(p_y) - 1] - p_y.index[0]\n",
    "p_y.index = p_y.date + days\n",
    "days = r_y.index[len(r_y) - 1] - r_y.index[0]\n",
    "r_y.index = r_y.date + days\n",
    "\n",
    "p_y = p_y[0:seasons]\n",
    "r_y = r_y[0:seasons]"
   ]
  },
  {
   "cell_type": "code",
   "execution_count": 28,
   "metadata": {
    "slideshow": {
     "slide_type": "subslide"
    }
   },
   "outputs": [
    {
     "data": {
      "image/png": "[encoded data removed]",
      "text/plain": [
       "<Figure size 1008x576 with 1 Axes>"
      ]
     },
     "metadata": {
      "needs_background": "light"
     },
     "output_type": "display_data"
    }
   ],
   "source": [
    "plt.figure(figsize=(global_width,global_height))\n",
    "plt.plot( tag_p.n, label='python', color = 'blue')\n",
    "plt.plot( tag_r.n, label='r', color = 'red')\n",
    "plt.plot(p_y['Holt_Winter'], color = 'blue', linestyle='dashed', label = 'python')\n",
    "plt.plot(r_y['Holt_Winter'], color = 'red', linestyle='dashed', label = 'r')\n",
    "\n",
    "plt.xlabel('Time')\n",
    "plt.ylabel('Count')\n",
    "plt.title('The Popularity of Python / R Over Time and Into The Future')\n",
    "\n",
    "plt.legend(loc='best')\n",
    "plt.show()"
   ]
  },
  {
   "cell_type": "markdown",
   "metadata": {
    "slideshow": {
     "slide_type": "-"
    }
   },
   "source": [
    "Both languages are definitely growing!\n",
    "\n",
    "At-least within the stackoverflow dataset Python is growing more quickly than R and looks to continue that trend."
   ]
  },
  {
   "cell_type": "markdown",
   "metadata": {
    "slideshow": {
     "slide_type": "slide"
    }
   },
   "source": [
    "<h1><center>Questions?</center></h1>"
   ]
  }
 ],
 "metadata": {
  "celltoolbar": "Slideshow",
  "kernelspec": {
   "display_name": "Python 3",
   "language": "python",
   "name": "python3"
  },
  "language_info": {
   "codemirror_mode": {
    "name": "ipython",
    "version": 3
   },
   "file_extension": ".py",
   "mimetype": "text/x-python",
   "name": "python",
   "nbconvert_exporter": "python",
   "pygments_lexer": "ipython3",
   "version": "3.7.1"
  }
 },
 "nbformat": 4,
 "nbformat_minor": 2
}
